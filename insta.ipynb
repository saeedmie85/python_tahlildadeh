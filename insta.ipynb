{
 "cells": [
  {
   "cell_type": "code",
   "execution_count": 1,
   "metadata": {},
   "outputs": [],
   "source": [
    "from instapy import InstaPy\n",
    "from instapy import smart_run"
   ]
  },
  {
   "cell_type": "code",
   "execution_count": 4,
   "metadata": {},
   "outputs": [
    {
     "name": "stderr",
     "output_type": "stream",
     "text": [
      "INFO [2024-03-07 17:38:50] [xilol86079]  Workspace in use: \"C:/Users/C1-Teachers/InstaPy\"\n"
     ]
    },
    {
     "name": "stdout",
     "output_type": "stream",
     "text": [
      "InstaPy Version: 0.6.16\n",
      " ._.  ._.  ._.  ._.  ._.  ._.  ._.  ._.  ._.  ._.  ._.  ._.  ._.  ._.  ._.  ._.  ._.  ._. \n"
     ]
    },
    {
     "ename": "PermissionError",
     "evalue": "[Errno 13] Permission denied: 'C:\\\\Users\\\\C1-Teachers\\\\InstaPy\\\\assets\\\\geckodriver.exe'",
     "output_type": "error",
     "traceback": [
      "\u001b[1;31m---------------------------------------------------------------------------\u001b[0m",
      "\u001b[1;31mPermissionError\u001b[0m                           Traceback (most recent call last)",
      "Cell \u001b[1;32mIn[4], line 1\u001b[0m\n\u001b[1;32m----> 1\u001b[0m \u001b[43mInstaPy\u001b[49m\u001b[43m(\u001b[49m\u001b[43musername\u001b[49m\u001b[38;5;241;43m=\u001b[39;49m\u001b[38;5;124;43m\"\u001b[39;49m\u001b[38;5;124;43mxilol86079\u001b[39;49m\u001b[38;5;124;43m\"\u001b[39;49m\u001b[43m,\u001b[49m\u001b[43m \u001b[49m\u001b[43mpassword\u001b[49m\u001b[38;5;241;43m=\u001b[39;49m\u001b[38;5;124;43m\"\u001b[39;49m\u001b[38;5;124;43m1234@qaz\u001b[39;49m\u001b[38;5;124;43m\"\u001b[39;49m\u001b[43m)\u001b[49m\u001b[38;5;241m.\u001b[39mlogin()\n",
      "File \u001b[1;32mf:\\Mostafai\\python 1402 paeez\\16\\env\\lib\\site-packages\\instapy\\instapy.py:330\u001b[0m, in \u001b[0;36mInstaPy.__init__\u001b[1;34m(self, username, password, nogui, selenium_local_session, browser_profile_path, page_delay, show_logs, headless_browser, proxy_username, proxy_password, proxy_address, proxy_port, disable_image_load, multi_logs, log_handler, geckodriver_path, split_db, bypass_security_challenge_using, security_codes, want_check_browser, browser_executable_path, geckodriver_log_level)\u001b[0m\n\u001b[0;32m    327\u001b[0m get_database(make\u001b[38;5;241m=\u001b[39m\u001b[38;5;28;01mTrue\u001b[39;00m)  \u001b[38;5;66;03m# IMPORTANT: think twice before relocating\u001b[39;00m\n\u001b[0;32m    329\u001b[0m \u001b[38;5;28;01mif\u001b[39;00m selenium_local_session:\n\u001b[1;32m--> 330\u001b[0m     \u001b[38;5;28mself\u001b[39m\u001b[38;5;241m.\u001b[39mbrowser, err_msg \u001b[38;5;241m=\u001b[39m \u001b[43mset_selenium_local_session\u001b[49m\u001b[43m(\u001b[49m\n\u001b[0;32m    331\u001b[0m \u001b[43m        \u001b[49m\u001b[43mproxy_address\u001b[49m\u001b[43m,\u001b[49m\n\u001b[0;32m    332\u001b[0m \u001b[43m        \u001b[49m\u001b[43mproxy_port\u001b[49m\u001b[43m,\u001b[49m\n\u001b[0;32m    333\u001b[0m \u001b[43m        \u001b[49m\u001b[43mproxy_username\u001b[49m\u001b[43m,\u001b[49m\n\u001b[0;32m    334\u001b[0m \u001b[43m        \u001b[49m\u001b[43mproxy_password\u001b[49m\u001b[43m,\u001b[49m\n\u001b[0;32m    335\u001b[0m \u001b[43m        \u001b[49m\u001b[43mheadless_browser\u001b[49m\u001b[43m,\u001b[49m\n\u001b[0;32m    336\u001b[0m \u001b[43m        \u001b[49m\u001b[43mbrowser_profile_path\u001b[49m\u001b[43m,\u001b[49m\n\u001b[0;32m    337\u001b[0m \u001b[43m        \u001b[49m\u001b[43mdisable_image_load\u001b[49m\u001b[43m,\u001b[49m\n\u001b[0;32m    338\u001b[0m \u001b[43m        \u001b[49m\u001b[43mpage_delay\u001b[49m\u001b[43m,\u001b[49m\n\u001b[0;32m    339\u001b[0m \u001b[43m        \u001b[49m\u001b[43mgeckodriver_path\u001b[49m\u001b[43m,\u001b[49m\n\u001b[0;32m    340\u001b[0m \u001b[43m        \u001b[49m\u001b[43mbrowser_executable_path\u001b[49m\u001b[43m,\u001b[49m\n\u001b[0;32m    341\u001b[0m \u001b[43m        \u001b[49m\u001b[38;5;28;43mself\u001b[39;49m\u001b[38;5;241;43m.\u001b[39;49m\u001b[43mlogfolder\u001b[49m\u001b[43m,\u001b[49m\n\u001b[0;32m    342\u001b[0m \u001b[43m        \u001b[49m\u001b[38;5;28;43mself\u001b[39;49m\u001b[38;5;241;43m.\u001b[39;49m\u001b[43mlogger\u001b[49m\u001b[43m,\u001b[49m\n\u001b[0;32m    343\u001b[0m \u001b[43m        \u001b[49m\u001b[43mgeckodriver_log_level\u001b[49m\u001b[43m,\u001b[49m\n\u001b[0;32m    344\u001b[0m \u001b[43m    \u001b[49m\u001b[43m)\u001b[49m\n\u001b[0;32m    345\u001b[0m     \u001b[38;5;28;01mif\u001b[39;00m \u001b[38;5;28mlen\u001b[39m(err_msg) \u001b[38;5;241m>\u001b[39m \u001b[38;5;241m0\u001b[39m:\n\u001b[0;32m    346\u001b[0m         \u001b[38;5;28;01mraise\u001b[39;00m InstaPyError(err_msg)\n",
      "File \u001b[1;32mf:\\Mostafai\\python 1402 paeez\\16\\env\\lib\\site-packages\\instapy\\browser.py:122\u001b[0m, in \u001b[0;36mset_selenium_local_session\u001b[1;34m(proxy_address, proxy_port, proxy_username, proxy_password, headless_browser, browser_profile_path, disable_image_load, page_delay, geckodriver_path, browser_executable_path, logfolder, logger, geckodriver_log_level)\u001b[0m\n\u001b[0;32m    119\u001b[0m geckodriver_log \u001b[38;5;241m=\u001b[39m \u001b[38;5;124m\"\u001b[39m\u001b[38;5;132;01m{}\u001b[39;00m\u001b[38;5;124mgeckodriver.log\u001b[39m\u001b[38;5;124m\"\u001b[39m\u001b[38;5;241m.\u001b[39mformat(logfolder)\n\u001b[0;32m    121\u001b[0m \u001b[38;5;66;03m# prefer user path before downloaded one\u001b[39;00m\n\u001b[1;32m--> 122\u001b[0m driver_path \u001b[38;5;241m=\u001b[39m geckodriver_path \u001b[38;5;129;01mor\u001b[39;00m \u001b[43mget_geckodriver\u001b[49m\u001b[43m(\u001b[49m\u001b[43m)\u001b[49m\n\u001b[0;32m    123\u001b[0m browser \u001b[38;5;241m=\u001b[39m webdriver\u001b[38;5;241m.\u001b[39mFirefox(\n\u001b[0;32m    124\u001b[0m     firefox_profile\u001b[38;5;241m=\u001b[39mfirefox_profile,\n\u001b[0;32m    125\u001b[0m     executable_path\u001b[38;5;241m=\u001b[39mdriver_path,\n\u001b[0;32m    126\u001b[0m     log_path\u001b[38;5;241m=\u001b[39mgeckodriver_log,\n\u001b[0;32m    127\u001b[0m     options\u001b[38;5;241m=\u001b[39mfirefox_options,\n\u001b[0;32m    128\u001b[0m )\n\u001b[0;32m    130\u001b[0m \u001b[38;5;66;03m# add extension to hide selenium\u001b[39;00m\n",
      "File \u001b[1;32mf:\\Mostafai\\python 1402 paeez\\16\\env\\lib\\site-packages\\instapy\\browser.py:38\u001b[0m, in \u001b[0;36mget_geckodriver\u001b[1;34m()\u001b[0m\n\u001b[0;32m     36\u001b[0m gdd \u001b[38;5;241m=\u001b[39m GeckoDriverDownloader(asset_path, asset_path)\n\u001b[0;32m     37\u001b[0m \u001b[38;5;66;03m# skips download if already downloaded\u001b[39;00m\n\u001b[1;32m---> 38\u001b[0m sym_path \u001b[38;5;241m=\u001b[39m \u001b[43mgdd\u001b[49m\u001b[38;5;241;43m.\u001b[39;49m\u001b[43mdownload_and_install\u001b[49m\u001b[43m(\u001b[49m\u001b[43m)\u001b[49m[\u001b[38;5;241m1\u001b[39m]\n\u001b[0;32m     39\u001b[0m \u001b[38;5;28;01mreturn\u001b[39;00m sym_path\n",
      "File \u001b[1;32mf:\\Mostafai\\python 1402 paeez\\16\\env\\lib\\site-packages\\webdriverdownloader\\webdriverdownloader.py:225\u001b[0m, in \u001b[0;36mWebDriverDownloaderBase.download_and_install\u001b[1;34m(self, version, os_name, bitness, show_progress_bar)\u001b[0m\n\u001b[0;32m    223\u001b[0m \u001b[38;5;28;01mif\u001b[39;00m os\u001b[38;5;241m.\u001b[39mpath\u001b[38;5;241m.\u001b[39misfile(dest_file):\n\u001b[0;32m    224\u001b[0m     logger\u001b[38;5;241m.\u001b[39minfo(\u001b[38;5;124m\"\u001b[39m\u001b[38;5;124mFile \u001b[39m\u001b[38;5;132;01m{0}\u001b[39;00m\u001b[38;5;124m already exists and will be overwritten.\u001b[39m\u001b[38;5;124m\"\u001b[39m\u001b[38;5;241m.\u001b[39mformat(dest_file))\n\u001b[1;32m--> 225\u001b[0m \u001b[43mshutil\u001b[49m\u001b[38;5;241;43m.\u001b[39;49m\u001b[43mcopy2\u001b[49m\u001b[43m(\u001b[49m\u001b[43msrc_file\u001b[49m\u001b[43m,\u001b[49m\u001b[43m \u001b[49m\u001b[43mdest_file\u001b[49m\u001b[43m)\u001b[49m\n\u001b[0;32m    226\u001b[0m \u001b[38;5;28;01mreturn\u001b[39;00m \u001b[38;5;28mtuple\u001b[39m([src_file, dest_file])\n",
      "File \u001b[1;32m~\\AppData\\Local\\Programs\\Python\\Python310\\lib\\shutil.py:434\u001b[0m, in \u001b[0;36mcopy2\u001b[1;34m(src, dst, follow_symlinks)\u001b[0m\n\u001b[0;32m    432\u001b[0m \u001b[38;5;28;01mif\u001b[39;00m os\u001b[38;5;241m.\u001b[39mpath\u001b[38;5;241m.\u001b[39misdir(dst):\n\u001b[0;32m    433\u001b[0m     dst \u001b[38;5;241m=\u001b[39m os\u001b[38;5;241m.\u001b[39mpath\u001b[38;5;241m.\u001b[39mjoin(dst, os\u001b[38;5;241m.\u001b[39mpath\u001b[38;5;241m.\u001b[39mbasename(src))\n\u001b[1;32m--> 434\u001b[0m \u001b[43mcopyfile\u001b[49m\u001b[43m(\u001b[49m\u001b[43msrc\u001b[49m\u001b[43m,\u001b[49m\u001b[43m \u001b[49m\u001b[43mdst\u001b[49m\u001b[43m,\u001b[49m\u001b[43m \u001b[49m\u001b[43mfollow_symlinks\u001b[49m\u001b[38;5;241;43m=\u001b[39;49m\u001b[43mfollow_symlinks\u001b[49m\u001b[43m)\u001b[49m\n\u001b[0;32m    435\u001b[0m copystat(src, dst, follow_symlinks\u001b[38;5;241m=\u001b[39mfollow_symlinks)\n\u001b[0;32m    436\u001b[0m \u001b[38;5;28;01mreturn\u001b[39;00m dst\n",
      "File \u001b[1;32m~\\AppData\\Local\\Programs\\Python\\Python310\\lib\\shutil.py:256\u001b[0m, in \u001b[0;36mcopyfile\u001b[1;34m(src, dst, follow_symlinks)\u001b[0m\n\u001b[0;32m    254\u001b[0m \u001b[38;5;28;01mwith\u001b[39;00m \u001b[38;5;28mopen\u001b[39m(src, \u001b[38;5;124m'\u001b[39m\u001b[38;5;124mrb\u001b[39m\u001b[38;5;124m'\u001b[39m) \u001b[38;5;28;01mas\u001b[39;00m fsrc:\n\u001b[0;32m    255\u001b[0m     \u001b[38;5;28;01mtry\u001b[39;00m:\n\u001b[1;32m--> 256\u001b[0m         \u001b[38;5;28;01mwith\u001b[39;00m \u001b[38;5;28;43mopen\u001b[39;49m\u001b[43m(\u001b[49m\u001b[43mdst\u001b[49m\u001b[43m,\u001b[49m\u001b[43m \u001b[49m\u001b[38;5;124;43m'\u001b[39;49m\u001b[38;5;124;43mwb\u001b[39;49m\u001b[38;5;124;43m'\u001b[39;49m\u001b[43m)\u001b[49m \u001b[38;5;28;01mas\u001b[39;00m fdst:\n\u001b[0;32m    257\u001b[0m             \u001b[38;5;66;03m# macOS\u001b[39;00m\n\u001b[0;32m    258\u001b[0m             \u001b[38;5;28;01mif\u001b[39;00m _HAS_FCOPYFILE:\n\u001b[0;32m    259\u001b[0m                 \u001b[38;5;28;01mtry\u001b[39;00m:\n",
      "\u001b[1;31mPermissionError\u001b[0m: [Errno 13] Permission denied: 'C:\\\\Users\\\\C1-Teachers\\\\InstaPy\\\\assets\\\\geckodriver.exe'"
     ]
    }
   ],
   "source": [
    "InstaPy(username=\"xilol86079\", password=\"1234@qaz\").login()"
   ]
  },
  {
   "cell_type": "code",
   "execution_count": 14,
   "metadata": {},
   "outputs": [],
   "source": [
    "from random import randint\n",
    "from selenium import webdriver\n",
    "import time\n",
    "\n",
    "class InstaBot:\n",
    "    def __init__(self, username, password):\n",
    "        options = webdriver.FirefoxOptions()\n",
    "        driver = webdriver.Firefox(options= options)\n",
    "        driver.get('https://www.instagram.com/')\n",
    "        time.sleep(self.get_number(0,3))\n",
    "        driver.find_element(\"xpath\",\"//button[text()='Allow all cookies']\").click()\n",
    "        time.sleep(self.get_number(0,3))\n",
    "        driver.find_element(\"xpath\",\"//input[@name='username']\")\\\n",
    "            .send_keys(username)\n",
    "        driver.find_element(\"xpath\",\"//input[@name='password']\").send_keys(password)\n",
    "        time.sleep(self.get_number(7,10))\n",
    "        driver.find_element(\"xpath\",\"//button[@type='submit']\").click()\n",
    "        time.sleep(self.get_number(1,6))\n",
    "        driver.find_element(\"xpath\",\"//div[@role='button']\").click()\n",
    "\n",
    "    \n",
    "    def get_number(self,a,b):\n",
    "        return randint(a,b)\n",
    "\n",
    "bot = InstaBot(username=\"xilol86079\", password=\"1234@qaz\")"
   ]
  }
 ],
 "metadata": {
  "kernelspec": {
   "display_name": "env",
   "language": "python",
   "name": "python3"
  },
  "language_info": {
   "codemirror_mode": {
    "name": "ipython",
    "version": 3
   },
   "file_extension": ".py",
   "mimetype": "text/x-python",
   "name": "python",
   "nbconvert_exporter": "python",
   "pygments_lexer": "ipython3",
   "version": "3.10.11"
  }
 },
 "nbformat": 4,
 "nbformat_minor": 2
}
